{
  "nbformat": 4,
  "nbformat_minor": 0,
  "metadata": {
    "colab": {
      "name": "Neural_Net.ipynb",
      "version": "0.3.2",
      "views": {},
      "default_view": {},
      "provenance": []
    },
    "kernelspec": {
      "name": "python3",
      "display_name": "Python 3"
    },
    "accelerator": "GPU"
  },
  "cells": [
    {
      "metadata": {
        "id": "acSz794m368i",
        "colab_type": "code",
        "colab": {
          "autoexec": {
            "startup": false,
            "wait_interval": 0
          },
          "base_uri": "https://localhost:8080/",
          "height": 173
        },
        "outputId": "14a82e0e-c569-41ba-aab3-46e4d2c7b6dd",
        "executionInfo": {
          "status": "ok",
          "timestamp": 1525181430394,
          "user_tz": -540,
          "elapsed": 30590,
          "user": {
            "displayName": "오스칼오스칼",
            "photoUrl": "https://lh3.googleusercontent.com/a/default-user=s128",
            "userId": "108673672506972548059"
          }
        }
      },
      "cell_type": "code",
      "source": [
        "#Conecting to Google Drive\n",
        "\n",
        "\n",
        "\n",
        "!apt-get install -y -qq software-properties-common python-software-properties module-init-tools\n",
        "!add-apt-repository -y ppa:alessandro-strada/ppa 2>&1 > /dev/null\n",
        "!apt-get update -qq 2>&1 > /dev/null\n",
        "!apt-get -y install -qq google-drive-ocamlfuse fuse\n",
        "\n",
        "\n",
        "\n",
        "# Generate auth tokens for Colab\n",
        "from google.colab import auth\n",
        "auth.authenticate_user()\n",
        "\n",
        "\n",
        "# Generate creds for the Drive FUSE library.\n",
        "from oauth2client.client import GoogleCredentials\n",
        "creds = GoogleCredentials.get_application_default()\n",
        "import getpass\n",
        "!google-drive-ocamlfuse -headless -id={creds.client_id} -secret={creds.client_secret} < /dev/null 2>&1 | grep URL\n",
        "vcode = getpass.getpass()\n",
        "!echo {vcode} | google-drive-ocamlfuse -headless -id={creds.client_id} -secret={creds.client_secret}\n",
        "\n",
        "\n",
        "# Create a directory and mount Google Drive using that directory.\n",
        "!mkdir -p drive\n",
        "!google-drive-ocamlfuse drive"
      ],
      "execution_count": 2,
      "outputs": [
        {
          "output_type": "stream",
          "text": [
            "gpg: keybox '/tmp/tmpqwmpjnpt/pubring.gpg' created\n",
            "gpg: /tmp/tmpqwmpjnpt/trustdb.gpg: trustdb created\n",
            "gpg: key AD5F235DF639B041: public key \"Launchpad PPA for Alessandro Strada\" imported\n",
            "gpg: Total number processed: 1\n",
            "gpg:               imported: 1\n",
            "Warning: apt-key output should not be parsed (stdout is not a terminal)\n",
            "··········\n",
            "fuse: mountpoint is not empty\n",
            "fuse: if you are sure this is safe, use the 'nonempty' mount option\n"
          ],
          "name": "stdout"
        }
      ]
    },
    {
      "metadata": {
        "id": "Mg6RRhTB4Cdu",
        "colab_type": "code",
        "colab": {
          "autoexec": {
            "startup": false,
            "wait_interval": 0
          },
          "base_uri": "https://localhost:8080/",
          "height": 34
        },
        "outputId": "9b7bdd9d-3c1b-4451-dce2-eca9c2ae902e",
        "executionInfo": {
          "status": "ok",
          "timestamp": 1525181431308,
          "user_tz": -540,
          "elapsed": 840,
          "user": {
            "displayName": "오스칼오스칼",
            "photoUrl": "https://lh3.googleusercontent.com/a/default-user=s128",
            "userId": "108673672506972548059"
          }
        }
      },
      "cell_type": "code",
      "source": [
        "cd '/content/drive/Data Mining Project/Neural_Net'"
      ],
      "execution_count": 3,
      "outputs": [
        {
          "output_type": "stream",
          "text": [
            "/content/drive/Data Mining Project/Neural_Net\n"
          ],
          "name": "stdout"
        }
      ]
    },
    {
      "metadata": {
        "id": "YbIO-_v94F2A",
        "colab_type": "code",
        "colab": {
          "autoexec": {
            "startup": false,
            "wait_interval": 0
          }
        }
      },
      "cell_type": "code",
      "source": [
        "import pickle"
      ],
      "execution_count": 0,
      "outputs": []
    },
    {
      "metadata": {
        "id": "T5XUI1O74KDo",
        "colab_type": "code",
        "colab": {
          "autoexec": {
            "startup": false,
            "wait_interval": 0
          }
        }
      },
      "cell_type": "code",
      "source": [
        "infile = open('nonsexist_tweets','rb')\n",
        "nonsexist_tweets = pickle.load(infile)\n",
        "infile.close()\n",
        "\n",
        "\n",
        "infile = open('sexist_tweets','rb')\n",
        "sexist_tweets = pickle.load(infile)\n",
        "infile.close()"
      ],
      "execution_count": 0,
      "outputs": []
    },
    {
      "metadata": {
        "id": "wWNq54QI4jI0",
        "colab_type": "code",
        "colab": {
          "autoexec": {
            "startup": false,
            "wait_interval": 0
          }
        }
      },
      "cell_type": "code",
      "source": [
        "# Tokenization of the data set\n",
        "# Probably the best thing is to use Word2Vec using gensim library"
      ],
      "execution_count": 0,
      "outputs": []
    },
    {
      "metadata": {
        "id": "1PDW7V7bgQEu",
        "colab_type": "code",
        "colab": {
          "autoexec": {
            "startup": false,
            "wait_interval": 0
          },
          "base_uri": "https://localhost:8080/",
          "height": 86
        },
        "outputId": "9940a39b-29ca-4651-dea5-1944ed72d68e",
        "executionInfo": {
          "status": "ok",
          "timestamp": 1525182004772,
          "user_tz": -540,
          "elapsed": 1908,
          "user": {
            "displayName": "오스칼오스칼",
            "photoUrl": "https://lh3.googleusercontent.com/a/default-user=s128",
            "userId": "108673672506972548059"
          }
        }
      },
      "cell_type": "code",
      "source": [
        "# Data Splitting and Filling"
      ],
      "execution_count": 0,
      "outputs": [
        {
          "output_type": "stream",
          "text": [
            "config.py                Neural_Net.ipynb        retrieving_tweets.py\r\n",
            "database.ini             nonsexist_tweets        sexist_tweets\r\n",
            "Data Manipulation.ipynb  PostgreSQLConnector.py\r\n",
            "main.py                  \u001b[0m\u001b[01;34m__pycache__\u001b[0m/\r\n"
          ],
          "name": "stdout"
        }
      ]
    },
    {
      "metadata": {
        "id": "XPx4BROOgn94",
        "colab_type": "code",
        "colab": {
          "autoexec": {
            "startup": false,
            "wait_interval": 0
          }
        }
      },
      "cell_type": "code",
      "source": [
        "from keras.datasets import imdb\n",
        "from keras import preprocessing\n",
        "\n",
        "# Filling with zeroes so dimentions fits\n",
        "x_train = preprocessing.sequence.pad_sequences(x_train, maxlen=maxlen\n",
        "x_test = preprocessing.sequence.pad_sequences(x_test, maxlen=maxlen)"
      ],
      "execution_count": 0,
      "outputs": []
    },
    {
      "metadata": {
        "id": "IHUNLUjfg25C",
        "colab_type": "code",
        "colab": {
          "autoexec": {
            "startup": false,
            "wait_interval": 0
          }
        }
      },
      "cell_type": "code",
      "source": [
        "from keras.models import Sequential from keras.layers import Flatten, Dense\n",
        "model = Sequential()\n",
        "model.add(Embedding(10000, 8, input_length=maxlen))\n",
        "\n",
        "model.add(Flatten())\n",
        "\n",
        "# Adding a classifier layer\n",
        "model.add(Dense(1, activation='sigmoid'))\n",
        "\n",
        "#\n",
        "model.compile(optimizer='rmsprop', loss='binary_crossentropy', metrics=['acc']) model.summary()\n",
        "history = model.fit(x_train, y_train, epochs=10, batch_size=32, validation_split=0.2)\n"
      ],
      "execution_count": 0,
      "outputs": []
    }
  ]
}